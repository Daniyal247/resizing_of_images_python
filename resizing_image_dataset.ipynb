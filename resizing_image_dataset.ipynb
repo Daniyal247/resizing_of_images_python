{
  "nbformat": 4,
  "nbformat_minor": 0,
  "metadata": {
    "colab": {
      "provenance": [],
      "authorship_tag": "ABX9TyO2NXmuStfzCVzhzXtvwhQ2",
      "include_colab_link": true
    },
    "kernelspec": {
      "name": "python3",
      "display_name": "Python 3"
    },
    "language_info": {
      "name": "python"
    }
  },
  "cells": [
    {
      "cell_type": "markdown",
      "metadata": {
        "id": "view-in-github",
        "colab_type": "text"
      },
      "source": [
        "<a href=\"https://colab.research.google.com/github/Daniyal247/resizing_of_images_python/blob/main/resizing_image_dataset.ipynb\" target=\"_parent\"><img src=\"https://colab.research.google.com/assets/colab-badge.svg\" alt=\"Open In Colab\"/></a>"
      ]
    },
    {
      "cell_type": "code",
      "execution_count": null,
      "metadata": {
        "id": "OLS930c7Fi_T"
      },
      "outputs": [],
      "source": [
        "from PIL import Image\n",
        "import os\n",
        "\n",
        "def resize_images_in_folder(folder_path, output_folder, target_size=(32, 32)):\n",
        "    for filename in os.listdir(folder_path):\n",
        "        if filename.endswith(('.jpg', '.png', '.jpeg')):\n",
        "            image_path = os.path.join(folder_path, filename)\n",
        "            output_path = os.path.join(output_folder, filename)\n",
        "\n",
        "            try:\n",
        "                img = Image.open(image_path)\n",
        "                img_resized = img.resize(target_size, Image.Resampling.LANCZOS)\n",
        "                img_resized.save(output_path)\n",
        "            except Exception as e:\n",
        "                print(f\"Error processing {filename}: {e}\")\n",
        "\n",
        "# Specifying the input and output folders\n",
        "input_folder = 'C:/Users/romai/Documents/daniyal/FYP/scanning/Braille-Dataset-main/Letters/'\n",
        "output_folder = 'C:/Users/romai/Documents/daniyal/FYP/scanning/Braille-Dataset-main/resized32_letters/'\n",
        "\n",
        "for subfolder in os.listdir(input_folder):\n",
        "    subfolder_path = os.path.join(input_folder, subfolder)\n",
        "    if os.path.isdir(subfolder_path):\n",
        "        output_subfolder = os.path.join(output_folder, subfolder)\n",
        "        os.makedirs(output_subfolder, exist_ok=True)\n",
        "        resize_images_in_folder(subfolder_path, output_subfolder)"
      ]
    }
  ]
}